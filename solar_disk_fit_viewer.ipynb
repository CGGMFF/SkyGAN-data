{
 "cells": [
  {
   "cell_type": "markdown",
   "metadata": {},
   "source": [
    "This notebook allows browsing the fitted data, exporting an .html preview, and exporting all to .csv"
   ]
  },
  {
   "cell_type": "code",
   "execution_count": null,
   "metadata": {},
   "outputs": [],
   "source": [
    "import numpy as np\n",
    "import math\n",
    "import os\n",
    "os.environ[\"OPENCV_IO_ENABLE_OPENEXR\"] = \"1\" # required to enable .exr for new opencv-python versions\n",
    "import cv2\n",
    "from matplotlib import pyplot as plt\n",
    "import matplotlib.dates as mdates\n",
    "%config InlineBackend.print_figure_kwargs = {'facecolor' : \"w\"} # making matplotlib background white\n",
    "from pathlib import Path\n",
    "import sys\n",
    "from tqdm.auto import tqdm\n",
    "import pandas as pd\n",
    "from IPython.display import Image\n",
    "import ipywidgets"
   ]
  },
  {
   "cell_type": "code",
   "execution_count": null,
   "metadata": {},
   "outputs": [],
   "source": [
    "outputs_path = Path(\"/projects/SkyGAN/clouds_fisheye/solar_disk_fitting/\")\n",
    "\n",
    "def get_photos_path(shooting_name):\n",
    "    Path(\"/projects/SkyGAN/clouds_fisheye/processed/\") / shooting_name / \"1K_EXR\""
   ]
  },
  {
   "cell_type": "markdown",
   "metadata": {},
   "source": [
    "## Show all fitted outputs in the notebook"
   ]
  },
  {
   "cell_type": "code",
   "execution_count": null,
   "metadata": {},
   "outputs": [],
   "source": [
    "views_per_shooting = []\n",
    "\n",
    "for shooting_path in sorted(outputs_path.iterdir()):\n",
    "    if not shooting_path.is_dir() or not any(shooting_path.iterdir()):\n",
    "        continue\n",
    "\n",
    "    shooting_name = shooting_path.name\n",
    "\n",
    "    views_per_shooting.append(ipywidgets.VBox([\n",
    "        ipywidgets.HTML(value=f\"<h2>{shooting_name}</h2>\"),\n",
    "        ipywidgets.HBox([\n",
    "            ipywidgets.Image(value=open(shooting_path / \"time_offset_fitting.png\", 'rb').read(),\n",
    "                format='png', height=250),\n",
    "            ipywidgets.Image(value=open(shooting_path / \"solar_disk_fitting.png\", 'rb').read(),\n",
    "                format='png', height=250)\n",
    "        ])\n",
    "    ]))\n",
    "\n",
    "display(ipywidgets.VBox(views_per_shooting))"
   ]
  },
  {
   "cell_type": "markdown",
   "metadata": {},
   "source": [
    "## Export all fitted outputs to .html\n",
    "\n",
    "Note that the `.html` file simply links to `.png` plots and assumes they are in a subdirectory."
   ]
  },
  {
   "cell_type": "code",
   "execution_count": null,
   "metadata": {},
   "outputs": [],
   "source": [
    "html = '''<!DOCTYPE html>\n",
    "<html lang=\"en\">\n",
    "  <head>\n",
    "    <meta charset=\"utf-8\">\n",
    "    <title>title</title>\n",
    "  </head>\n",
    "  <body>\n",
    "'''\n",
    "\n",
    "for shooting_path in sorted(outputs_path.iterdir()):\n",
    "    if not shooting_path.is_dir() or not any(shooting_path.iterdir()):\n",
    "        continue\n",
    "\n",
    "    shooting_name = shooting_path.name\n",
    "\n",
    "    html += f\"<h2>{shooting_name}</h2>\"\n",
    "    html += f\"<img style='width:40%' src='solar_disk_fitting/{shooting_name}/time_offset_fitting.png' />\"\n",
    "    html += f\"<img style='width:40%' src='solar_disk_fitting/{shooting_name}/solar_disk_fitting.png' />\"\n",
    "\n",
    "html += '''\n",
    "</body>\n",
    "</html>'''\n",
    "\n",
    "with open(\"solar_disk_fitting_20221111_1738.html\", 'w') as f:\n",
    "    f.write(html)"
   ]
  },
  {
   "cell_type": "markdown",
   "metadata": {},
   "source": [
    "## Export all fitted outputs to .csv"
   ]
  },
  {
   "cell_type": "code",
   "execution_count": null,
   "metadata": {},
   "outputs": [],
   "source": [
    "overall_results = {\n",
    "    \"t\": [],\n",
    "    \"shoot\": [],\n",
    "    \"sun_elevation\": [],\n",
    "    \"sun_azimuth\": [],\n",
    "    \"img_fname\": [],\n",
    "}\n",
    "\n",
    "for shooting_path in sorted(outputs_path.iterdir()):\n",
    "    if not shooting_path.is_dir() or not any(shooting_path.iterdir()):\n",
    "        continue\n",
    "\n",
    "    shooting_name = shooting_path.name\n",
    "    shooting_results = np.load(shooting_path / \"fitting_results.npz\", allow_pickle=True)\n",
    "\n",
    "    overall_results[\"t\"].extend(shooting_results[\"t\"])\n",
    "    overall_results[\"shoot\"].extend([shooting_name] * len(shooting_results[\"t\"]))\n",
    "    overall_results[\"sun_elevation\"].extend(shooting_results[\"corrected_elevation\"])\n",
    "    overall_results[\"sun_azimuth\"].extend(shooting_results[\"corrected_azimuth\"])\n",
    "    overall_results[\"img_fname\"].extend(shooting_results[\"img_fname\"])\n",
    "\n",
    "overall_results_df = pd.DataFrame(overall_results)\n",
    "overall_results_df.to_csv(\"solar_disk_fitting_20221111_1738.csv\")"
   ]
  }
 ],
 "metadata": {
  "kernelspec": {
   "display_name": "Python 3.8.10 64-bit",
   "language": "python",
   "name": "python3"
  },
  "language_info": {
   "codemirror_mode": {
    "name": "ipython",
    "version": 3
   },
   "file_extension": ".py",
   "mimetype": "text/x-python",
   "name": "python",
   "nbconvert_exporter": "python",
   "pygments_lexer": "ipython3",
   "version": "3.8.10"
  },
  "orig_nbformat": 4,
  "vscode": {
   "interpreter": {
    "hash": "916dbcbb3f70747c44a77c7bcd40155683ae19c65e1c03b4aa3499c5328201f1"
   }
  }
 },
 "nbformat": 4,
 "nbformat_minor": 2
}
