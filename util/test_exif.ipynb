{
 "cells": [
  {
   "cell_type": "code",
   "execution_count": null,
   "metadata": {},
   "outputs": [],
   "source": [
    "from pathlib import Path\n",
    "from util.exif import read_timestamps_from_folder, get_img_metadata\n",
    "import pandas as pd\n",
    "import numpy as np\n",
    "import exifread\n",
    "pd.options.display.max_rows = 200\n",
    "pd.options.display.min_rows = 200\n",
    "pd.options.display.max_colwidth = 1000"
   ]
  },
  {
   "cell_type": "code",
   "execution_count": null,
   "metadata": {},
   "outputs": [],
   "source": [
    "#df = read_timestamps_from_folder(Path(\"/local/tobias/2019_10_14_1123_prague_chodska_21_rooftop/TIFF/\"))\n",
    "#df = read_timestamps_from_folder(Path(\"/projects/SkyGAN/clouds_fisheye/raw/2019-10-14_1123_prague_chodska_21_rooftop/\"))\n",
    "#df = read_timestamps_from_folder(Path(\"/projects/SkyGAN/clouds_fisheye/raw/2019-08-05_1716_santa_cruz_villa_nuova\"))\n",
    "df = read_timestamps_from_folder(Path(\"/projects/SkyGAN/clouds_fisheye/raw/2019-07-13_1239_prague_chodska_21_rooftop\"))\n",
    "#df = read_timestamps_from_folder(Path(\"/projects/SkyGAN/clouds_fisheye/raw/2019-06-18_0523_prague_chodska_21_rooftop\"))"
   ]
  },
  {
   "cell_type": "code",
   "execution_count": null,
   "metadata": {},
   "outputs": [],
   "source": [
    "timediff = df.reset_index(\"timestamp\")[\"timestamp\"].diff()\n",
    "threshold = timediff.quantile(0.9) * 0.8\n",
    "print(timediff, threshold)\n",
    "threshold_indices = timediff.index[timediff >= threshold].to_series()\n",
    "images_per_series = threshold_indices.diff().mean().astype(int)\n",
    "print(threshold_indices)\n",
    "print(threshold_indices[threshold_indices.diff() != images_per_series])\n",
    "print(threshold_indices.diff().std())\n",
    "start_idx = threshold_indices.iloc[0] % images_per_series\n",
    "print(f\"Starting at {start_idx} and then every {images_per_series} images\")"
   ]
  },
  {
   "cell_type": "code",
   "execution_count": null,
   "metadata": {},
   "outputs": [],
   "source": [
    "group_indices = np.repeat(np.arange(start_idx, len(df), images_per_series), images_per_series)[:len(df)]\n",
    "#group_indices = pd.DataFrame(group_indices, dtype=\"category\")\n",
    "df[\"group_idx\"] = group_indices"
   ]
  },
  {
   "cell_type": "code",
   "execution_count": null,
   "metadata": {},
   "outputs": [],
   "source": [
    "groups = df.groupby(\"group_idx\").filter(lambda g: len(g) == images_per_series).groupby(\"group_idx\")"
   ]
  },
  {
   "cell_type": "code",
   "execution_count": null,
   "metadata": {},
   "outputs": [],
   "source": [
    "for idx, group in groups:\n",
    "    print(group)"
   ]
  },
  {
   "cell_type": "code",
   "execution_count": null,
   "metadata": {},
   "outputs": [],
   "source": [
    "#filepath = Path('/local/tobias/2019_08_05_1716_santa_cruz_villa_nuova/TIFF/IMG_1032.tif')\n",
    "filepath = Path('/projects/SkyGAN/clouds_fisheye/raw/2019-08-09_0800_santa_cruz_villa_nuova/IMG_6529.CR2') # buggy focal length\n",
    "filepath = Path('/projects/SkyGAN/clouds_fisheye/raw/2019-07-17_1732_prague_chodska_21_rooftop/IMG_0768.CR2')\n",
    "filepath = Path('/projects/SkyGAN/clouds_fisheye/raw/2022-09-02_1601_blauhuette/IMG_0016.CR2')\n",
    "with open(filepath, 'rb') as file:\n",
    "    exif = exifread.process_file(file, details=True)"
   ]
  },
  {
   "cell_type": "code",
   "execution_count": null,
   "metadata": {},
   "outputs": [],
   "source": [
    "exif"
   ]
  },
  {
   "cell_type": "code",
   "execution_count": null,
   "metadata": {},
   "outputs": [],
   "source": [
    "int(str(exif[\"Image ImageWidth\"])) * (25.4 / eval(str(exif[\"EXIF FocalPlaneXResolution\"])) )"
   ]
  },
  {
   "cell_type": "code",
   "execution_count": null,
   "metadata": {},
   "outputs": [],
   "source": [
    "eval(str(exif[\"EXIF FocalPlaneXResolution\"])), eval(str(exif[\"EXIF FocalPlaneYResolution\"]))"
   ]
  },
  {
   "cell_type": "code",
   "execution_count": null,
   "metadata": {},
   "outputs": [],
   "source": [
    "import math\n",
    "math.sqrt(36.0**2+24.0**2)"
   ]
  },
  {
   "cell_type": "code",
   "execution_count": null,
   "metadata": {},
   "outputs": [],
   "source": [
    "data = [\n",
    "({'width': 5616, 'height': 3744, 'exposuretime': 0.0005, 'aperture': 14.0, 'iso': 100.0, 'num_exposures': 6, 'file_name': '/projects/SkyGAN/clouds_fisheye/raw/2019-05-10_1755_podbaba/IMG_8571.CR2'}, {'width': 5616, 'height': 3744, 'exposuretime': 0.5, 'aperture': 14.0, 'iso': 100.0, 'num_exposures': 6, 'file_name': '/projects/SkyGAN/clouds_fisheye/raw/2019-05-10_1755_podbaba/IMG_8576.CR2'}),\n",
    "({'width': 5616, 'height': 3744, 'exposuretime': 0.000125, 'aperture': 14.0, 'iso': 100.0, 'num_exposures': 6, 'file_name': '/projects/SkyGAN/clouds_fisheye/raw/2019-05-17_1946_hodejovice/IMG_8910.CR2'}, {'width': 5616, 'height': 3744, 'exposuretime': 0.125, 'aperture': 14.0, 'iso': 100.0, 'num_exposures': 6, 'file_name': '/projects/SkyGAN/clouds_fisheye/raw/2019-05-17_1946_hodejovice/IMG_8915.CR2'}),\n",
    "({'width': 5616, 'height': 3744, 'exposuretime': 0.000125, 'aperture': 16.0, 'iso': 100.0, 'num_exposures': 7, 'file_name': '/projects/SkyGAN/clouds_fisheye/raw/2019-05-17_2006_hodejovice/IMG_8990.CR2'}, {'width': 5616, 'height': 3744, 'exposuretime': 0.5, 'aperture': 16.0, 'iso': 100.0, 'num_exposures': 7, 'file_name': '/projects/SkyGAN/clouds_fisheye/raw/2019-05-17_2006_hodejovice/IMG_8996.CR2'}),\n",
    "({'width': 5616, 'height': 3744, 'exposuretime': 0.000125, 'aperture': 22.0, 'iso': 100.0, 'num_exposures': 7, 'file_name': '/projects/SkyGAN/clouds_fisheye/raw/2019-05-18_1357_hodejovice/IMG_9035.CR2'}, {'width': 5616, 'height': 3744, 'exposuretime': 0.5, 'aperture': 22.0, 'iso': 100.0, 'num_exposures': 7, 'file_name': '/projects/SkyGAN/clouds_fisheye/raw/2019-05-18_1357_hodejovice/IMG_9041.CR2'}),\n",
    "({'width': 5616, 'height': 3744, 'exposuretime': 0.000125, 'aperture': 22.0, 'iso': 100.0, 'num_exposures': 7, 'file_name': '/projects/SkyGAN/clouds_fisheye/raw/2019-05-24_1451_divoka_sarka/IMG_9393.CR2'}, {'width': 5616, 'height': 3744, 'exposuretime': 0.5, 'aperture': 22.0, 'iso': 100.0, 'num_exposures': 7, 'file_name': '/projects/SkyGAN/clouds_fisheye/raw/2019-05-24_1451_divoka_sarka/IMG_9399.CR2'}),\n",
    "({'width': 5616, 'height': 3744, 'exposuretime': 0.000125, 'aperture': 22.0, 'iso': 100.0, 'num_exposures': 7, 'file_name': '/projects/SkyGAN/clouds_fisheye/raw/2019-06-04_1010_ronan/IMG_9884.CR2'}, {'width': 5616, 'height': 3744, 'exposuretime': 0.5, 'aperture': 22.0, 'iso': 100.0, 'num_exposures': 7, 'file_name': '/projects/SkyGAN/clouds_fisheye/raw/2019-06-04_1010_ronan/IMG_9890.CR2'}),\n",
    "({'width': 5616, 'height': 3744, 'exposuretime': 0.000125, 'aperture': 22.0, 'iso': 100.0, 'num_exposures': 7, 'file_name': '/projects/SkyGAN/clouds_fisheye/raw/2019-06-04_1117_ronan/IMG_9933.CR2'}, {'width': 5616, 'height': 3744, 'exposuretime': 0.5, 'aperture': 22.0, 'iso': 100.0, 'num_exposures': 7, 'file_name': '/projects/SkyGAN/clouds_fisheye/raw/2019-06-04_1117_ronan/IMG_9939.CR2'}),\n",
    "({'width': 5616, 'height': 3744, 'exposuretime': 0.000125, 'aperture': 22.0, 'iso': 100.0, 'num_exposures': 7, 'file_name': '/projects/SkyGAN/clouds_fisheye/raw/2019-06-04_1659_ronan/IMG_0060.CR2'}, {'width': 5616, 'height': 3744, 'exposuretime': 0.5, 'aperture': 22.0, 'iso': 100.0, 'num_exposures': 7, 'file_name': '/projects/SkyGAN/clouds_fisheye/raw/2019-06-04_1659_ronan/IMG_0066.CR2'}),\n",
    "({'width': 5616, 'height': 3744, 'exposuretime': 0.000125, 'aperture': 22.0, 'iso': 100.0, 'num_exposures': 7, 'file_name': '/projects/SkyGAN/clouds_fisheye/raw/2019-06-05_1215_ronan/IMG_0424.CR2'}, {'width': 5616, 'height': 3744, 'exposuretime': 0.5, 'aperture': 22.0, 'iso': 100.0, 'num_exposures': 7, 'file_name': '/projects/SkyGAN/clouds_fisheye/raw/2019-06-05_1215_ronan/IMG_0430.CR2'}),\n",
    "({'width': 5616, 'height': 3744, 'exposuretime': 0.000125, 'aperture': 22.0, 'iso': 100.0, 'num_exposures': 7, 'file_name': '/projects/SkyGAN/clouds_fisheye/raw/2019-06-05_1700_ronan/IMG_0851.CR2'}, {'width': 5616, 'height': 3744, 'exposuretime': 0.5, 'aperture': 22.0, 'iso': 100.0, 'num_exposures': 7, 'file_name': '/projects/SkyGAN/clouds_fisheye/raw/2019-06-05_1700_ronan/IMG_0857.CR2'}),\n",
    "({'width': 5616, 'height': 3744, 'exposuretime': 0.000125, 'aperture': 18.0, 'iso': 100.0, 'num_exposures': 7, 'file_name': '/projects/SkyGAN/clouds_fisheye/raw/2019-06-06_1158_ronan/IMG_1285.CR2'}, {'width': 5616, 'height': 3744, 'exposuretime': 0.5, 'aperture': 18.0, 'iso': 100.0, 'num_exposures': 7, 'file_name': '/projects/SkyGAN/clouds_fisheye/raw/2019-06-06_1158_ronan/IMG_1291.CR2'}),\n",
    "({'width': 5616, 'height': 3744, 'exposuretime': 0.000125, 'aperture': 22.0, 'iso': 100.0, 'num_exposures': 7, 'file_name': '/projects/SkyGAN/clouds_fisheye/raw/2019-06-06_1257_ronan/IMG_1390.CR2'}, {'width': 5616, 'height': 3744, 'exposuretime': 0.5, 'aperture': 22.0, 'iso': 100.0, 'num_exposures': 7, 'file_name': '/projects/SkyGAN/clouds_fisheye/raw/2019-06-06_1257_ronan/IMG_1396.CR2'}),\n",
    "({'width': 5616, 'height': 3744, 'exposuretime': 0.000125, 'aperture': 22.0, 'iso': 100.0, 'num_exposures': 7, 'file_name': '/projects/SkyGAN/clouds_fisheye/raw/2019-06-07_1306_hammerschmiede/IMG_1733.CR2'}, {'width': 5616, 'height': 3744, 'exposuretime': 0.5, 'aperture': 22.0, 'iso': 100.0, 'num_exposures': 7, 'file_name': '/projects/SkyGAN/clouds_fisheye/raw/2019-06-07_1306_hammerschmiede/IMG_1739.CR2'}),\n",
    "({'width': 5616, 'height': 3744, 'exposuretime': 0.000125, 'aperture': 22.0, 'iso': 100.0, 'num_exposures': 7, 'file_name': '/projects/SkyGAN/clouds_fisheye/raw/2019-06-08_1545_quarry/IMG_3588.CR2'}, {'width': 5616, 'height': 3744, 'exposuretime': 0.125, 'aperture': 22.0, 'iso': 100.0, 'num_exposures': 7, 'file_name': '/projects/SkyGAN/clouds_fisheye/raw/2019-06-08_1545_quarry/IMG_3593.CR2'}),\n",
    "({'width': 5616, 'height': 3744, 'exposuretime': 0.000125, 'aperture': 22.0, 'iso': 100.0, 'num_exposures': 7, 'file_name': '/projects/SkyGAN/clouds_fisheye/raw/2019-06-10_1235_hammerschmiede/IMG_4442.CR2'}, {'width': 5616, 'height': 3744, 'exposuretime': 0.5, 'aperture': 22.0, 'iso': 100.0, 'num_exposures': 7, 'file_name': '/projects/SkyGAN/clouds_fisheye/raw/2019-06-10_1235_hammerschmiede/IMG_4448.CR2'}),\n",
    "({'width': 5616, 'height': 3744, 'exposuretime': 0.000125, 'aperture': 22.0, 'iso': 100.0, 'num_exposures': 7, 'file_name': '/projects/SkyGAN/clouds_fisheye/raw/2019-06-12_1744_stromovka_cgbbq/IMG_4876.CR2'}, {'width': 5616, 'height': 3744, 'exposuretime': 0.5, 'aperture': 22.0, 'iso': 100.0, 'num_exposures': 7, 'file_name': '/projects/SkyGAN/clouds_fisheye/raw/2019-06-12_1744_stromovka_cgbbq/IMG_4882.CR2'}),\n",
    "({'width': 5616, 'height': 3744, 'exposuretime': 0.000125, 'aperture': 22.0, 'iso': 100.0, 'num_exposures': 8, 'file_name': '/projects/SkyGAN/clouds_fisheye/raw/2019-06-16_1906_prague_chodska_21_rooftop/IMG_5095.CR2'}, {'width': 5616, 'height': 3744, 'exposuretime': 2.0, 'aperture': 22.0, 'iso': 100.0, 'num_exposures': 8, 'file_name': '/projects/SkyGAN/clouds_fisheye/raw/2019-06-16_1906_prague_chodska_21_rooftop/IMG_5102.CR2'}),\n",
    "({'width': 5616, 'height': 3744, 'exposuretime': 0.000125, 'aperture': 22.0, 'iso': 100.0, 'num_exposures': 7, 'file_name': '/projects/SkyGAN/clouds_fisheye/raw/2019-06-17_prague_chodska_21_rooftop/IMG_6119.CR2'}, {'width': 5616, 'height': 3744, 'exposuretime': 0.5, 'aperture': 22.0, 'iso': 100.0, 'num_exposures': 7, 'file_name': '/projects/SkyGAN/clouds_fisheye/raw/2019-06-17_prague_chodska_21_rooftop/IMG_6125.CR2'}),\n",
    "({'width': 5616, 'height': 3744, 'exposuretime': 0.000125, 'aperture': 22.0, 'iso': 100.0, 'num_exposures': 7, 'file_name': '/projects/SkyGAN/clouds_fisheye/raw/2019-06-18_0523_prague_chodska_21_rooftop/IMG_7344.CR2'}, {'width': 5616, 'height': 3744, 'exposuretime': 0.5, 'aperture': 22.0, 'iso': 100.0, 'num_exposures': 7, 'file_name': '/projects/SkyGAN/clouds_fisheye/raw/2019-06-18_0523_prague_chodska_21_rooftop/IMG_7350.CR2'}),\n",
    "({'width': 5616, 'height': 3744, 'exposuretime': 0.000125, 'aperture': 22.0, 'iso': 100.0, 'num_exposures': 7, 'file_name': '/projects/SkyGAN/clouds_fisheye/raw/2019-06-20_0454_prague_chodska_21_rooftop/IMG_0159.CR2'}, {'width': 5616, 'height': 3744, 'exposuretime': 0.5, 'aperture': 22.0, 'iso': 100.0, 'num_exposures': 7, 'file_name': '/projects/SkyGAN/clouds_fisheye/raw/2019-06-20_0454_prague_chodska_21_rooftop/IMG_0165.CR2'}),\n",
    "({'width': 5616, 'height': 3744, 'exposuretime': 0.000125, 'aperture': 22.0, 'iso': 100.0, 'num_exposures': 6, 'file_name': '/projects/SkyGAN/clouds_fisheye/raw/2019-06-20_0851_prague_chodska_21_rooftop/IMG_3145.CR2'}, {'width': 5616, 'height': 3744, 'exposuretime': 0.125, 'aperture': 22.0, 'iso': 100.0, 'num_exposures': 6, 'file_name': '/projects/SkyGAN/clouds_fisheye/raw/2019-06-20_0851_prague_chodska_21_rooftop/IMG_3150.CR2'}),\n",
    "({'width': 5616, 'height': 3744, 'exposuretime': 0.000125, 'aperture': 22.0, 'iso': 100.0, 'num_exposures': 7, 'file_name': '/projects/SkyGAN/clouds_fisheye/raw/2019-06-20_1151_prague_chodska_21_rooftop/IMG_4213.CR2'}, {'width': 5616, 'height': 3744, 'exposuretime': 0.5, 'aperture': 22.0, 'iso': 100.0, 'num_exposures': 7, 'file_name': '/projects/SkyGAN/clouds_fisheye/raw/2019-06-20_1151_prague_chodska_21_rooftop/IMG_4219.CR2'}),\n",
    "({'width': 5616, 'height': 3744, 'exposuretime': 0.000125, 'aperture': 22.0, 'iso': 100.0, 'num_exposures': 6, 'file_name': '/projects/SkyGAN/clouds_fisheye/raw/2019-06-21_0825_prague_chodska_21_rooftop/IMG_4815.CR2'}, {'width': 5616, 'height': 3744, 'exposuretime': 0.125, 'aperture': 22.0, 'iso': 100.0, 'num_exposures': 6, 'file_name': '/projects/SkyGAN/clouds_fisheye/raw/2019-06-21_0825_prague_chodska_21_rooftop/IMG_4820.CR2'}),\n",
    "({'width': 5616, 'height': 3744, 'exposuretime': 0.000125, 'aperture': 22.0, 'iso': 100.0, 'num_exposures': 8, 'file_name': '/projects/SkyGAN/clouds_fisheye/raw/2019-06-22_1859_farm_vystice/IMG_4838.CR2'}, {'width': 5616, 'height': 3744, 'exposuretime': 2.0, 'aperture': 22.0, 'iso': 100.0, 'num_exposures': 8, 'file_name': '/projects/SkyGAN/clouds_fisheye/raw/2019-06-22_1859_farm_vystice/IMG_4845.CR2'}),\n",
    "({'width': 5616, 'height': 3744, 'exposuretime': 0.000125, 'aperture': 22.0, 'iso': 100.0, 'num_exposures': 7, 'file_name': '/projects/SkyGAN/clouds_fisheye/raw/2019-06-23_0943_farm_vystice/IMG_5238.CR2'}, {'width': 5616, 'height': 3744, 'exposuretime': 0.5, 'aperture': 22.0, 'iso': 100.0, 'num_exposures': 7, 'file_name': '/projects/SkyGAN/clouds_fisheye/raw/2019-06-23_0943_farm_vystice/IMG_5244.CR2'}),\n",
    "({'width': 5616, 'height': 3744, 'exposuretime': 0.000125, 'aperture': 22.0, 'iso': 100.0, 'num_exposures': 8, 'file_name': '/projects/SkyGAN/clouds_fisheye/raw/2019-06-23_1939_prague_chodska_21_rooftop/IMG_5603.CR2'}, {'width': 5616, 'height': 3744, 'exposuretime': 2.0, 'aperture': 22.0, 'iso': 100.0, 'num_exposures': 8, 'file_name': '/projects/SkyGAN/clouds_fisheye/raw/2019-06-23_1939_prague_chodska_21_rooftop/IMG_5610.CR2'}),\n",
    "({'width': 5616, 'height': 3744, 'exposuretime': 0.000125, 'aperture': 22.0, 'iso': 100.0, 'num_exposures': 7, 'file_name': '/projects/SkyGAN/clouds_fisheye/raw/2019-06-24_0504_prague_chodska_21_rooftop/IMG_7659.CR2'}, {'width': 5616, 'height': 3744, 'exposuretime': 0.5, 'aperture': 22.0, 'iso': 100.0, 'num_exposures': 7, 'file_name': '/projects/SkyGAN/clouds_fisheye/raw/2019-06-24_0504_prague_chodska_21_rooftop/IMG_7665.CR2'}),\n",
    "({'width': 5616, 'height': 3744, 'exposuretime': 0.000125, 'aperture': 22.0, 'iso': 100.0, 'num_exposures': 6, 'file_name': '/projects/SkyGAN/clouds_fisheye/raw/2019-06-24_0827_prague_chodska_21_rooftop/IMG_0453.CR2'}, {'width': 5616, 'height': 3744, 'exposuretime': 0.125, 'aperture': 22.0, 'iso': 100.0, 'num_exposures': 6, 'file_name': '/projects/SkyGAN/clouds_fisheye/raw/2019-06-24_0827_prague_chodska_21_rooftop/IMG_0458.CR2'}),\n",
    "({'width': 5616, 'height': 3744, 'exposuretime': 0.000125, 'aperture': 22.0, 'iso': 100.0, 'num_exposures': 8, 'file_name': '/projects/SkyGAN/clouds_fisheye/raw/2019-06-25_1952_prague_chodska_21_rooftop/IMG_2973.CR2'}, {'width': 5616, 'height': 3744, 'exposuretime': 2.0, 'aperture': 22.0, 'iso': 100.0, 'num_exposures': 8, 'file_name': '/projects/SkyGAN/clouds_fisheye/raw/2019-06-25_1952_prague_chodska_21_rooftop/IMG_2980.CR2'}),\n",
    "({'width': 5616, 'height': 3744, 'exposuretime': 0.000125, 'aperture': 22.0, 'iso': 100.0, 'num_exposures': 6, 'file_name': '/projects/SkyGAN/clouds_fisheye/raw/2019-06-26_0848_prague_chodska_21_rooftop/IMG_4909.CR2'}, {'width': 5616, 'height': 3744, 'exposuretime': 0.125, 'aperture': 22.0, 'iso': 100.0, 'num_exposures': 6, 'file_name': '/projects/SkyGAN/clouds_fisheye/raw/2019-06-26_0848_prague_chodska_21_rooftop/IMG_4914.CR2'}),\n",
    "({'width': 5616, 'height': 3744, 'exposuretime': 0.03333333333333333, 'aperture': 22.0, 'iso': 100.0, 'num_exposures': 6, 'file_name': '/projects/SkyGAN/clouds_fisheye/raw/2019-06-26_1311_prague_chodska_21_rooftop/IMG_4909.CR2'}, {'width': 5616, 'height': 3744, 'exposuretime': 32.0, 'aperture': 22.0, 'iso': 100.0, 'num_exposures': 6, 'file_name': '/projects/SkyGAN/clouds_fisheye/raw/2019-06-26_1311_prague_chodska_21_rooftop/IMG_4914.CR2'}),\n",
    "({'width': 5616, 'height': 3744, 'exposuretime': 0.000125, 'aperture': 22.0, 'iso': 100.0, 'num_exposures': 8, 'file_name': '/projects/SkyGAN/clouds_fisheye/raw/2019-06-26_1855_prague_chodska_21_rooftop/IMG_7872.CR2'}, {'width': 5616, 'height': 3744, 'exposuretime': 2.0, 'aperture': 22.0, 'iso': 100.0, 'num_exposures': 8, 'file_name': '/projects/SkyGAN/clouds_fisheye/raw/2019-06-26_1855_prague_chodska_21_rooftop/IMG_7879.CR2'}),\n",
    "({'width': 5616, 'height': 3744, 'exposuretime': 0.000125, 'aperture': 22.0, 'iso': 100.0, 'num_exposures': 6, 'file_name': '/projects/SkyGAN/clouds_fisheye/raw/2019-06-29_1113_divoka_sarka/IMG_0906.CR2'}, {'width': 5616, 'height': 3744, 'exposuretime': 0.125, 'aperture': 22.0, 'iso': 100.0, 'num_exposures': 6, 'file_name': '/projects/SkyGAN/clouds_fisheye/raw/2019-06-29_1113_divoka_sarka/IMG_0911.CR2'}),\n",
    "({'width': 5616, 'height': 3744, 'exposuretime': 0.000125, 'aperture': 22.0, 'iso': 100.0, 'num_exposures': 6, 'file_name': '/projects/SkyGAN/clouds_fisheye/raw/2019-07-05_0812_prague_chodska_21_rooftop/IMG_5423.CR2'}, {'width': 5616, 'height': 3744, 'exposuretime': 0.125, 'aperture': 22.0, 'iso': 100.0, 'num_exposures': 6, 'file_name': '/projects/SkyGAN/clouds_fisheye/raw/2019-07-05_0812_prague_chodska_21_rooftop/IMG_5428.CR2'}),\n",
    "({'width': 5616, 'height': 3744, 'exposuretime': 0.000125, 'aperture': 22.0, 'iso': 100.0, 'num_exposures': 5, 'file_name': '/projects/SkyGAN/clouds_fisheye/raw/2019-07-13_1524_prague_chodska_21_rooftop/IMG_9076.CR2'}, {'width': 5616, 'height': 3744, 'exposuretime': 0.03333333333333333, 'aperture': 22.0, 'iso': 100.0, 'num_exposures': 5, 'file_name': '/projects/SkyGAN/clouds_fisheye/raw/2019-07-13_1524_prague_chodska_21_rooftop/IMG_9080.CR2'}),\n",
    "({'width': 5616, 'height': 3744, 'exposuretime': 0.000125, 'aperture': 22.0, 'iso': 100.0, 'num_exposures': 7, 'file_name': '/projects/SkyGAN/clouds_fisheye/raw/2019-07-13_1905_prague_chodska_21_rooftop/IMG_1092.CR2'}, {'width': 5616, 'height': 3744, 'exposuretime': 0.5, 'aperture': 22.0, 'iso': 100.0, 'num_exposures': 7, 'file_name': '/projects/SkyGAN/clouds_fisheye/raw/2019-07-13_1905_prague_chodska_21_rooftop/IMG_1098.CR2'}),\n",
    "({'width': 5616, 'height': 3744, 'exposuretime': 0.000125, 'aperture': 22.0, 'iso': 100.0, 'num_exposures': 5, 'file_name': '/projects/SkyGAN/clouds_fisheye/raw/2019-07-14_1054_prague_chodska_21_rooftop/IMG_2021.CR2'}, {'width': 5616, 'height': 3744, 'exposuretime': 0.03333333333333333, 'aperture': 22.0, 'iso': 100.0, 'num_exposures': 5, 'file_name': '/projects/SkyGAN/clouds_fisheye/raw/2019-07-14_1054_prague_chodska_21_rooftop/IMG_2025.CR2'}),\n",
    "({'width': 5616, 'height': 3744, 'exposuretime': 0.000125, 'aperture': 22.0, 'iso': 100.0, 'num_exposures': 5, 'file_name': '/projects/SkyGAN/clouds_fisheye/raw/2019-07-14_1317_prague_chodska_21_rooftop/IMG_3121.CR2'}, {'width': 5616, 'height': 3744, 'exposuretime': 0.03333333333333333, 'aperture': 22.0, 'iso': 100.0, 'num_exposures': 5, 'file_name': '/projects/SkyGAN/clouds_fisheye/raw/2019-07-14_1317_prague_chodska_21_rooftop/IMG_3125.CR2'}),\n",
    "({'width': 5616, 'height': 3744, 'exposuretime': 0.000125, 'aperture': 22.0, 'iso': 100.0, 'num_exposures': 5, 'file_name': '/projects/SkyGAN/clouds_fisheye/raw/2019-07-14_1418_prague_chodska_21_rooftop/IMG_3176.CR2'}, {'width': 5616, 'height': 3744, 'exposuretime': 0.03333333333333333, 'aperture': 22.0, 'iso': 100.0, 'num_exposures': 5, 'file_name': '/projects/SkyGAN/clouds_fisheye/raw/2019-07-14_1418_prague_chodska_21_rooftop/IMG_3180.CR2'}),\n",
    "({'width': 5616, 'height': 3744, 'exposuretime': 0.000125, 'aperture': 22.0, 'iso': 100.0, 'num_exposures': 5, 'file_name': '/projects/SkyGAN/clouds_fisheye/raw/2019-07-14_1603_prague_chodska_21_rooftop/IMG_4106.CR2'}, {'width': 5616, 'height': 3744, 'exposuretime': 0.03333333333333333, 'aperture': 22.0, 'iso': 100.0, 'num_exposures': 5, 'file_name': '/projects/SkyGAN/clouds_fisheye/raw/2019-07-14_1603_prague_chodska_21_rooftop/IMG_4110.CR2'}),\n",
    "({'width': 5616, 'height': 3744, 'exposuretime': 0.000125, 'aperture': 22.0, 'iso': 100.0, 'num_exposures': 5, 'file_name': '/projects/SkyGAN/clouds_fisheye/raw/2019-07-14_1618_prague_chodska_21_rooftop/IMG_4256.CR2'}, {'width': 5616, 'height': 3744, 'exposuretime': 0.03333333333333333, 'aperture': 22.0, 'iso': 100.0, 'num_exposures': 5, 'file_name': '/projects/SkyGAN/clouds_fisheye/raw/2019-07-14_1618_prague_chodska_21_rooftop/IMG_4260.CR2'}),\n",
    "({'width': 5616, 'height': 3744, 'exposuretime': 0.000125, 'aperture': 22.0, 'iso': 100.0, 'num_exposures': 5, 'file_name': '/projects/SkyGAN/clouds_fisheye/raw/2019-07-15_0844_prague_chodska_21_rooftop/IMG_5791.CR2'}, {'width': 5616, 'height': 3744, 'exposuretime': 0.03333333333333333, 'aperture': 22.0, 'iso': 100.0, 'num_exposures': 5, 'file_name': '/projects/SkyGAN/clouds_fisheye/raw/2019-07-15_0844_prague_chodska_21_rooftop/IMG_5795.CR2'}),\n",
    "({'width': 5616, 'height': 3744, 'exposuretime': 0.000125, 'aperture': 22.0, 'iso': 100.0, 'num_exposures': 7, 'file_name': '/projects/SkyGAN/clouds_fisheye/raw/2019-07-15_1929_prague_chodska_21_rooftop/IMG_5793.CR2'}, {'width': 5616, 'height': 3744, 'exposuretime': 0.5, 'aperture': 22.0, 'iso': 100.0, 'num_exposures': 7, 'file_name': '/projects/SkyGAN/clouds_fisheye/raw/2019-07-15_1929_prague_chodska_21_rooftop/IMG_5799.CR2'}),\n",
    "({'width': 5616, 'height': 3744, 'exposuretime': 0.000125, 'aperture': 22.0, 'iso': 100.0, 'num_exposures': 6, 'file_name': '/projects/SkyGAN/clouds_fisheye/raw/2019-07-16_0845_prague_chodska_21_rooftop/IMG_7455.CR2'}, {'width': 5616, 'height': 3744, 'exposuretime': 0.125, 'aperture': 22.0, 'iso': 100.0, 'num_exposures': 6, 'file_name': '/projects/SkyGAN/clouds_fisheye/raw/2019-07-16_0845_prague_chodska_21_rooftop/IMG_7460.CR2'}),\n",
    "({'width': 5616, 'height': 3744, 'exposuretime': 0.000125, 'aperture': 22.0, 'iso': 100.0, 'num_exposures': 5, 'file_name': '/projects/SkyGAN/clouds_fisheye/raw/2019-07-16_1221_prague_chodska_21_rooftop/IMG_9981.CR2'}, {'width': 5616, 'height': 3744, 'exposuretime': 0.03333333333333333, 'aperture': 22.0, 'iso': 100.0, 'num_exposures': 5, 'file_name': '/projects/SkyGAN/clouds_fisheye/raw/2019-07-16_1221_prague_chodska_21_rooftop/IMG_9985.CR2'}),\n",
    "({'width': 5616, 'height': 3744, 'exposuretime': 0.000125, 'aperture': 22.0, 'iso': 100.0, 'num_exposures': 6, 'file_name': '/projects/SkyGAN/clouds_fisheye/raw/2019-07-17_0547_prague_chodska_21_rooftop/IMG_5702.CR2'}, {'width': 5616, 'height': 3744, 'exposuretime': 0.125, 'aperture': 22.0, 'iso': 100.0, 'num_exposures': 6, 'file_name': '/projects/SkyGAN/clouds_fisheye/raw/2019-07-17_0547_prague_chodska_21_rooftop/IMG_5707.CR2'}),\n",
    "({'width': 5616, 'height': 3744, 'exposuretime': 0.000125, 'aperture': 22.0, 'iso': 100.0, 'num_exposures': 5, 'file_name': '/projects/SkyGAN/clouds_fisheye/raw/2019-07-17_0856_prague_chodska_21_rooftop/IMG_7934.CR2'}, {'width': 5616, 'height': 3744, 'exposuretime': 0.03333333333333333, 'aperture': 22.0, 'iso': 100.0, 'num_exposures': 5, 'file_name': '/projects/SkyGAN/clouds_fisheye/raw/2019-07-17_0856_prague_chodska_21_rooftop/IMG_7938.CR2'}),\n",
    "({'width': 5616, 'height': 3744, 'exposuretime': 0.000125, 'aperture': 22.0, 'iso': 100.0, 'num_exposures': 5, 'file_name': '/projects/SkyGAN/clouds_fisheye/raw/2019-07-17_1732_prague_chodska_21_rooftop/IMG_0606.CR2'}, {'width': 5616, 'height': 3744, 'exposuretime': 0.03333333333333333, 'aperture': 22.0, 'iso': 100.0, 'num_exposures': 5, 'file_name': '/projects/SkyGAN/clouds_fisheye/raw/2019-07-17_1732_prague_chodska_21_rooftop/IMG_0610.CR2'}),\n",
    "({'width': 5616, 'height': 3744, 'exposuretime': 0.000125, 'aperture': 22.0, 'iso': 100.0, 'num_exposures': 7, 'file_name': '/projects/SkyGAN/clouds_fisheye/raw/2019-07-17_1957_prague_chodska_21_rooftop/IMG_1966.CR2'}, {'width': 5616, 'height': 3744, 'exposuretime': 0.5, 'aperture': 22.0, 'iso': 100.0, 'num_exposures': 7, 'file_name': '/projects/SkyGAN/clouds_fisheye/raw/2019-07-17_1957_prague_chodska_21_rooftop/IMG_1972.CR2'}),\n",
    "({'width': 5616, 'height': 3744, 'exposuretime': 0.000125, 'aperture': 22.0, 'iso': 100.0, 'num_exposures': 5, 'file_name': '/projects/SkyGAN/clouds_fisheye/raw/2019-08-05_0841_santa_cruz_villa_nuova/IMG_6507.CR2'}, {'width': 5616, 'height': 3744, 'exposuretime': 0.03333333333333333, 'aperture': 22.0, 'iso': 100.0, 'num_exposures': 5, 'file_name': '/projects/SkyGAN/clouds_fisheye/raw/2019-08-05_0841_santa_cruz_villa_nuova/IMG_6511.CR2'}),\n",
    "({'width': 5616, 'height': 3744, 'exposuretime': 0.000125, 'aperture': 22.0, 'iso': 100.0, 'num_exposures': 7, 'file_name': '/projects/SkyGAN/clouds_fisheye/raw/2019-08-05_1716_santa_cruz_villa_nuova/IMG_1030.CR2'}, {'width': 5616, 'height': 3744, 'exposuretime': 0.5, 'aperture': 22.0, 'iso': 100.0, 'num_exposures': 7, 'file_name': '/projects/SkyGAN/clouds_fisheye/raw/2019-08-05_1716_santa_cruz_villa_nuova/IMG_1036.CR2'}),\n",
    "({'width': 5616, 'height': 3744, 'exposuretime': 0.000125, 'aperture': 22.0, 'iso': 100.0, 'num_exposures': 8, 'file_name': '/projects/SkyGAN/clouds_fisheye/raw/2019-08-05_2013_santa_cruz_villa_nuova/IMG_1030.CR2'}, {'width': 5616, 'height': 3744, 'exposuretime': 2.0, 'aperture': 22.0, 'iso': 100.0, 'num_exposures': 8, 'file_name': '/projects/SkyGAN/clouds_fisheye/raw/2019-08-05_2013_santa_cruz_villa_nuova/IMG_1037.CR2'}),\n",
    "({'width': 5616, 'height': 3744, 'exposuretime': 0.000125, 'aperture': 22.0, 'iso': 100.0, 'num_exposures': 7, 'file_name': '/projects/SkyGAN/clouds_fisheye/raw/2019-08-06_1657_santa_cruz_villa_nuova/IMG_5379.CR2'}, {'width': 5616, 'height': 3744, 'exposuretime': 0.5, 'aperture': 22.0, 'iso': 100.0, 'num_exposures': 7, 'file_name': '/projects/SkyGAN/clouds_fisheye/raw/2019-08-06_1657_santa_cruz_villa_nuova/IMG_5385.CR2'}),\n",
    "({'width': 5616, 'height': 3744, 'exposuretime': 0.000125, 'aperture': 22.0, 'iso': 100.0, 'num_exposures': 6, 'file_name': '/projects/SkyGAN/clouds_fisheye/raw/2019-08-08_1048_santa_cruz_villa_nuova/IMG_5529.CR2'}, {'width': 5616, 'height': 3744, 'exposuretime': 0.125, 'aperture': 22.0, 'iso': 100.0, 'num_exposures': 6, 'file_name': '/projects/SkyGAN/clouds_fisheye/raw/2019-08-08_1048_santa_cruz_villa_nuova/IMG_5534.CR2'}),\n",
    "({'width': 5616, 'height': 3744, 'exposuretime': 0.000125, 'aperture': 0.0, 'iso': 100.0, 'num_exposures': 6, 'file_name': '/projects/SkyGAN/clouds_fisheye/raw/2019-08-09_0800_santa_cruz_villa_nuova/IMG_5529.CR2'}, {'width': 5616, 'height': 3744, 'exposuretime': 0.125, 'aperture': 0.0, 'iso': 100.0, 'num_exposures': 6, 'file_name': '/projects/SkyGAN/clouds_fisheye/raw/2019-08-09_0800_santa_cruz_villa_nuova/IMG_5534.CR2'}),\n",
    "({'width': 5616, 'height': 3744, 'exposuretime': 0.000125, 'aperture': 22.0, 'iso': 100.0, 'num_exposures': 8, 'file_name': '/projects/SkyGAN/clouds_fisheye/raw/2019-08-09_1800_santa_cruz_villa_nuova/IMG_5523.CR2'}, {'width': 5616, 'height': 3744, 'exposuretime': 2.0, 'aperture': 22.0, 'iso': 100.0, 'num_exposures': 8, 'file_name': '/projects/SkyGAN/clouds_fisheye/raw/2019-08-09_1800_santa_cruz_villa_nuova/IMG_5530.CR2'}),\n",
    "({'width': 5616, 'height': 3744, 'exposuretime': 0.000125, 'aperture': 22.0, 'iso': 100.0, 'num_exposures': 5, 'file_name': '/projects/SkyGAN/clouds_fisheye/raw/2019-08-10_1000_santa_cruz_villa_nuova/IMG_8219.CR2'}, {'width': 5616, 'height': 3744, 'exposuretime': 0.03333333333333333, 'aperture': 22.0, 'iso': 100.0, 'num_exposures': 5, 'file_name': '/projects/SkyGAN/clouds_fisheye/raw/2019-08-10_1000_santa_cruz_villa_nuova/IMG_8223.CR2'}),\n",
    "({'width': 5616, 'height': 3744, 'exposuretime': 0.000125, 'aperture': 22.0, 'iso': 100.0, 'num_exposures': 7, 'file_name': '/projects/SkyGAN/clouds_fisheye/raw/2019-08-10_1959_santa_cruz_villa_nuova/IMG_4211.CR2'}, {'width': 5616, 'height': 3744, 'exposuretime': 0.5, 'aperture': 22.0, 'iso': 100.0, 'num_exposures': 7, 'file_name': '/projects/SkyGAN/clouds_fisheye/raw/2019-08-10_1959_santa_cruz_villa_nuova/IMG_4217.CR2'}),\n",
    "({'width': 5616, 'height': 3744, 'exposuretime': 0.000125, 'aperture': 22.0, 'iso': 100.0, 'num_exposures': 5, 'file_name': '/projects/SkyGAN/clouds_fisheye/raw/2019-08-16_1130_burbank_1200_riverside/IMG_8224.CR2'}, {'width': 5616, 'height': 3744, 'exposuretime': 0.03333333333333333, 'aperture': 22.0, 'iso': 100.0, 'num_exposures': 5, 'file_name': '/projects/SkyGAN/clouds_fisheye/raw/2019-08-16_1130_burbank_1200_riverside/IMG_8228.CR2'}),\n",
    "({'width': 5616, 'height': 3744, 'exposuretime': 0.000125, 'aperture': 22.0, 'iso': 100.0, 'num_exposures': 8, 'file_name': '/projects/SkyGAN/clouds_fisheye/raw/2019-08-16_1824_burbank_1200_riverside/IMG_2385.CR2'}, {'width': 5616, 'height': 3744, 'exposuretime': 2.0, 'aperture': 22.0, 'iso': 100.0, 'num_exposures': 8, 'file_name': '/projects/SkyGAN/clouds_fisheye/raw/2019-08-16_1824_burbank_1200_riverside/IMG_2392.CR2'}),\n",
    "({'width': 5616, 'height': 3744, 'exposuretime': 0.000125, 'aperture': 22.0, 'iso': 100.0, 'num_exposures': 7, 'file_name': '/projects/SkyGAN/clouds_fisheye/raw/2019-08-18_1841_burbank_1200_riverside/IMG_6503.CR2'}, {'width': 5616, 'height': 3744, 'exposuretime': 0.5, 'aperture': 22.0, 'iso': 100.0, 'num_exposures': 7, 'file_name': '/projects/SkyGAN/clouds_fisheye/raw/2019-08-18_1841_burbank_1200_riverside/IMG_6509.CR2'}),\n",
    "({'width': 5616, 'height': 3744, 'exposuretime': 0.000125, 'aperture': 22.0, 'iso': 100.0, 'num_exposures': 8, 'file_name': '/projects/SkyGAN/clouds_fisheye/raw/2019-09-13_1908_prague_chodska_21_rooftop/IMG_0873.CR2'}, {'width': 5616, 'height': 3744, 'exposuretime': 2.0, 'aperture': 22.0, 'iso': 100.0, 'num_exposures': 8, 'file_name': '/projects/SkyGAN/clouds_fisheye/raw/2019-09-13_1908_prague_chodska_21_rooftop/IMG_0880.CR2'}),\n",
    "({'width': 5616, 'height': 3744, 'exposuretime': 0.000125, 'aperture': 22.0, 'iso': 100.0, 'num_exposures': 7, 'file_name': '/projects/SkyGAN/clouds_fisheye/raw/2019-09-17_1756_prague_chodska_21_rooftop/IMG_4218.CR2'}, {'width': 5616, 'height': 3744, 'exposuretime': 0.5, 'aperture': 22.0, 'iso': 100.0, 'num_exposures': 7, 'file_name': '/projects/SkyGAN/clouds_fisheye/raw/2019-09-17_1756_prague_chodska_21_rooftop/IMG_4224.CR2'}),\n",
    "({'width': 5616, 'height': 3744, 'exposuretime': 0.000125, 'aperture': 22.0, 'iso': 100.0, 'num_exposures': 5, 'file_name': '/projects/SkyGAN/clouds_fisheye/raw/2019-09-18_0708_prague_chodska_21_rooftop/IMG_0001.CR2'}, {'width': 5616, 'height': 3744, 'exposuretime': 0.03333333333333333, 'aperture': 22.0, 'iso': 100.0, 'num_exposures': 5, 'file_name': '/projects/SkyGAN/clouds_fisheye/raw/2019-09-18_0708_prague_chodska_21_rooftop/IMG_0005.CR2'}),\n",
    "({'width': 5616, 'height': 3744, 'exposuretime': 0.000125, 'aperture': 22.0, 'iso': 100.0, 'num_exposures': 5, 'file_name': '/projects/SkyGAN/clouds_fisheye/raw/2019-09-19_0800_prague_chodska_21_rooftop/IMG_5485.CR2'}, {'width': 5616, 'height': 3744, 'exposuretime': 0.03333333333333333, 'aperture': 22.0, 'iso': 100.0, 'num_exposures': 5, 'file_name': '/projects/SkyGAN/clouds_fisheye/raw/2019-09-19_0800_prague_chodska_21_rooftop/IMG_5489.CR2'}),\n",
    "({'width': 5616, 'height': 3744, 'exposuretime': 0.000125, 'aperture': 22.0, 'iso': 100.0, 'num_exposures': 5, 'file_name': '/projects/SkyGAN/clouds_fisheye/raw/2019-09-20_0744_centrum_nesmen_by_te_wood_logs/IMG_0001.CR2'}, {'width': 5616, 'height': 3744, 'exposuretime': 0.03333333333333333, 'aperture': 22.0, 'iso': 100.0, 'num_exposures': 5, 'file_name': '/projects/SkyGAN/clouds_fisheye/raw/2019-09-20_0744_centrum_nesmen_by_te_wood_logs/IMG_0005.CR2'}),\n",
    "({'width': 5616, 'height': 3744, 'exposuretime': 0.000125, 'aperture': 22.0, 'iso': 100.0, 'num_exposures': 5, 'file_name': '/projects/SkyGAN/clouds_fisheye/raw/2019-09-20_1507_centrum_nesmen_by_te_wood_logs/IMG_0001.CR2'}, {'width': 5616, 'height': 3744, 'exposuretime': 0.03333333333333333, 'aperture': 22.0, 'iso': 100.0, 'num_exposures': 5, 'file_name': '/projects/SkyGAN/clouds_fisheye/raw/2019-09-20_1507_centrum_nesmen_by_te_wood_logs/IMG_0005.CR2'}),\n",
    "({'width': 5616, 'height': 3744, 'exposuretime': 0.000125, 'aperture': 22.0, 'iso': 100.0, 'num_exposures': 8, 'file_name': '/projects/SkyGAN/clouds_fisheye/raw/2019-09-20_1904_centrum_nesmen_hilltop/IMG_0487.CR2'}, {'width': 5616, 'height': 3744, 'exposuretime': 2.0, 'aperture': 22.0, 'iso': 100.0, 'num_exposures': 8, 'file_name': '/projects/SkyGAN/clouds_fisheye/raw/2019-09-20_1904_centrum_nesmen_hilltop/IMG_0494.CR2'}),\n",
    "({'width': 5616, 'height': 3744, 'exposuretime': 0.000125, 'aperture': 22.0, 'iso': 100.0, 'num_exposures': 9, 'file_name': '/projects/SkyGAN/clouds_fisheye/raw/2019-09-20_1923_centrum_nesmen_hilltop/IMG_0783.CR2'}, {'width': 5616, 'height': 3744, 'exposuretime': 8.0, 'aperture': 22.0, 'iso': 100.0, 'num_exposures': 9, 'file_name': '/projects/SkyGAN/clouds_fisheye/raw/2019-09-20_1923_centrum_nesmen_hilltop/IMG_0791.CR2'}),\n",
    "({'width': 5616, 'height': 3744, 'exposuretime': 0.000125, 'aperture': 22.0, 'iso': 100.0, 'num_exposures': 5, 'file_name': '/projects/SkyGAN/clouds_fisheye/raw/2019-09-21_0710_centrum_nesmen_by_the_wood_logs/IMG_0924.CR2'}, {'width': 5616, 'height': 3744, 'exposuretime': 0.03333333333333333, 'aperture': 22.0, 'iso': 100.0, 'num_exposures': 5, 'file_name': '/projects/SkyGAN/clouds_fisheye/raw/2019-09-21_0710_centrum_nesmen_by_the_wood_logs/IMG_0928.CR2'}),\n",
    "({'width': 5616, 'height': 3744, 'exposuretime': 0.000125, 'aperture': 22.0, 'iso': 100.0, 'num_exposures': 5, 'file_name': '/projects/SkyGAN/clouds_fisheye/raw/2019-09-21_1114_centrum_nesmen_by_the_wood_logs/IMG_3354.CR2'}, {'width': 5616, 'height': 3744, 'exposuretime': 0.03333333333333333, 'aperture': 22.0, 'iso': 100.0, 'num_exposures': 5, 'file_name': '/projects/SkyGAN/clouds_fisheye/raw/2019-09-21_1114_centrum_nesmen_by_the_wood_logs/IMG_3358.CR2'}),\n",
    "({'width': 5616, 'height': 3744, 'exposuretime': 0.000125, 'aperture': 22.0, 'iso': 100.0, 'num_exposures': 5, 'file_name': '/projects/SkyGAN/clouds_fisheye/raw/2019-09-21_1456_centrum_nesmen_by_the_wood_logs/IMG_5569.CR2'}, {'width': 5616, 'height': 3744, 'exposuretime': 0.03333333333333333, 'aperture': 22.0, 'iso': 100.0, 'num_exposures': 5, 'file_name': '/projects/SkyGAN/clouds_fisheye/raw/2019-09-21_1456_centrum_nesmen_by_the_wood_logs/IMG_5573.CR2'}),\n",
    "({'width': 5616, 'height': 3744, 'exposuretime': 0.000125, 'aperture': 22.0, 'iso': 100.0, 'num_exposures': 5, 'file_name': '/projects/SkyGAN/clouds_fisheye/raw/2019-10-13_1515_prague_chodska_21_rooftop/IMG_7989.CR2'}, {'width': 5616, 'height': 3744, 'exposuretime': 0.03333333333333333, 'aperture': 22.0, 'iso': 100.0, 'num_exposures': 5, 'file_name': '/projects/SkyGAN/clouds_fisheye/raw/2019-10-13_1515_prague_chodska_21_rooftop/IMG_7993.CR2'}),\n",
    "({'width': 5616, 'height': 3744, 'exposuretime': 0.000125, 'aperture': 22.0, 'iso': 100.0, 'num_exposures': 8, 'file_name': '/projects/SkyGAN/clouds_fisheye/raw/2019-10-13_1830_prague_chodska_21_rooftop/IMG_0001.CR2'}, {'width': 5616, 'height': 3744, 'exposuretime': 2.0, 'aperture': 22.0, 'iso': 100.0, 'num_exposures': 8, 'file_name': '/projects/SkyGAN/clouds_fisheye/raw/2019-10-13_1830_prague_chodska_21_rooftop/IMG_0008.CR2'}),\n",
    "({'width': 5616, 'height': 3744, 'exposuretime': 0.002, 'aperture': 4.0, 'iso': 400.0, 'num_exposures': 7, 'file_name': '/projects/SkyGAN/clouds_fisheye/raw/2019-10-13_1915_prague_chodska_21_rooftop/IMG_0641.CR2'}, {'width': 5616, 'height': 3744, 'exposuretime': 8.0, 'aperture': 4.0, 'iso': 400.0, 'num_exposures': 7, 'file_name': '/projects/SkyGAN/clouds_fisheye/raw/2019-10-13_1915_prague_chodska_21_rooftop/IMG_0647.CR2'}),\n",
    "({'width': 5616, 'height': 3744, 'exposuretime': 0.000125, 'aperture': 22.0, 'iso': 100.0, 'num_exposures': 6, 'file_name': '/projects/SkyGAN/clouds_fisheye/raw/2019-10-14_0746_prague_chodska_21_rooftop/IMG_3089.CR2'}, {'width': 5616, 'height': 3744, 'exposuretime': 0.125, 'aperture': 22.0, 'iso': 100.0, 'num_exposures': 6, 'file_name': '/projects/SkyGAN/clouds_fisheye/raw/2019-10-14_0746_prague_chodska_21_rooftop/IMG_3094.CR2'}),\n",
    "({'width': 5616, 'height': 3744, 'exposuretime': 0.000125, 'aperture': 22.0, 'iso': 100.0, 'num_exposures': 5, 'file_name': '/projects/SkyGAN/clouds_fisheye/raw/2019-10-14_1123_prague_chodska_21_rooftop/IMG_5681.CR2'}, {'width': 5616, 'height': 3744, 'exposuretime': 0.03333333333333333, 'aperture': 22.0, 'iso': 100.0, 'num_exposures': 5, 'file_name': '/projects/SkyGAN/clouds_fisheye/raw/2019-10-14_1123_prague_chodska_21_rooftop/IMG_5685.CR2'}),\n",
    "({'width': 5616, 'height': 3744, 'exposuretime': 0.002, 'aperture': 4.0, 'iso': 400.0, 'num_exposures': 7, 'file_name': '/projects/SkyGAN/clouds_fisheye/raw/2019-10-14_1834_prague_chodska_21_rooftop/IMG_0001.CR2'}, {'width': 5616, 'height': 3744, 'exposuretime': 8.0, 'aperture': 4.0, 'iso': 400.0, 'num_exposures': 7, 'file_name': '/projects/SkyGAN/clouds_fisheye/raw/2019-10-14_1834_prague_chodska_21_rooftop/IMG_0007.CR2'}),\n",
    "({'width': 5616, 'height': 3744, 'exposuretime': 0.002, 'aperture': 4.0, 'iso': 400.0, 'num_exposures': 7, 'file_name': '/projects/SkyGAN/clouds_fisheye/raw/2019-10-14_2205_prague_chodska_21_rooftop/IMG_2897.CR2'}, {'width': 5616, 'height': 3744, 'exposuretime': 8.0, 'aperture': 4.0, 'iso': 400.0, 'num_exposures': 7, 'file_name': '/projects/SkyGAN/clouds_fisheye/raw/2019-10-14_2205_prague_chodska_21_rooftop/IMG_2903.CR2'}),\n",
    "({'width': 5616, 'height': 3744, 'exposuretime': 0.000125, 'aperture': 22.0, 'iso': 100.0, 'num_exposures': 7, 'file_name': '/projects/SkyGAN/clouds_fisheye/raw/2019-10-15_0727_prague_chodska_21_rooftop/IMG_3505.CR2'}, {'width': 5616, 'height': 3744, 'exposuretime': 0.5, 'aperture': 22.0, 'iso': 100.0, 'num_exposures': 7, 'file_name': '/projects/SkyGAN/clouds_fisheye/raw/2019-10-15_0727_prague_chodska_21_rooftop/IMG_3511.CR2'}),\n",
    "({'width': 5616, 'height': 3744, 'exposuretime': 0.000125, 'aperture': 22.0, 'iso': 100.0, 'num_exposures': 8, 'file_name': '/projects/SkyGAN/clouds_fisheye/raw/2019-10-15_1233_prague_chodska_21_rooftop/IMG_0001.CR2'}, {'width': 5616, 'height': 3744, 'exposuretime': 2.0, 'aperture': 22.0, 'iso': 100.0, 'num_exposures': 8, 'file_name': '/projects/SkyGAN/clouds_fisheye/raw/2019-10-15_1233_prague_chodska_21_rooftop/IMG_0008.CR2'}),\n",
    "({'width': 5616, 'height': 3744, 'exposuretime': 0.000125, 'aperture': 22.0, 'iso': 100.0, 'num_exposures': 5, 'file_name': '/projects/SkyGAN/clouds_fisheye/raw/2019-10-17_0824_prague_chodska_21_rooftop/IMG_0001.CR2'}, {'width': 5616, 'height': 3744, 'exposuretime': 0.03333333333333333, 'aperture': 22.0, 'iso': 100.0, 'num_exposures': 5, 'file_name': '/projects/SkyGAN/clouds_fisheye/raw/2019-10-17_0824_prague_chodska_21_rooftop/IMG_0005.CR2'}),\n",
    "({'width': 5616, 'height': 3744, 'exposuretime': 0.000125, 'aperture': 22.0, 'iso': 100.0, 'num_exposures': 6, 'file_name': '/projects/SkyGAN/clouds_fisheye/raw/2019-10-18_0823_prague_chodska_21_rooftop/IMG_0001.CR2'}, {'width': 5616, 'height': 3744, 'exposuretime': 0.125, 'aperture': 22.0, 'iso': 100.0, 'num_exposures': 6, 'file_name': '/projects/SkyGAN/clouds_fisheye/raw/2019-10-18_0823_prague_chodska_21_rooftop/IMG_0006.CR2'}),\n",
    "({'width': 5616, 'height': 3744, 'exposuretime': 0.000125, 'aperture': 22.0, 'iso': 100.0, 'num_exposures': 8, 'file_name': '/projects/SkyGAN/clouds_fisheye/raw/2019-10-18_1721_prague_chodska_21_rooftop/IMG_0001.CR2'}, {'width': 5616, 'height': 3744, 'exposuretime': 2.0, 'aperture': 22.0, 'iso': 100.0, 'num_exposures': 8, 'file_name': '/projects/SkyGAN/clouds_fisheye/raw/2019-10-18_1721_prague_chodska_21_rooftop/IMG_0008.CR2'}),\n",
    "({'width': 5616, 'height': 3744, 'exposuretime': 0.000125, 'aperture': 22.0, 'iso': 100.0, 'num_exposures': 5, 'file_name': '/projects/SkyGAN/clouds_fisheye/raw/2019-10-26_0909_prague_chodska_21_rooftop/IMG_0232.CR2'}, {'width': 5616, 'height': 3744, 'exposuretime': 0.03333333333333333, 'aperture': 22.0, 'iso': 100.0, 'num_exposures': 5, 'file_name': '/projects/SkyGAN/clouds_fisheye/raw/2019-10-26_0909_prague_chodska_21_rooftop/IMG_0236.CR2'}),\n",
    "({'width': 5616, 'height': 3744, 'exposuretime': 0.000125, 'aperture': 22.0, 'iso': 100.0, 'num_exposures': 6, 'file_name': '/projects/SkyGAN/clouds_fisheye/raw/2019-10-30_0825_prague_chodska_21_rooftop/IMG_2624.CR2'}, {'width': 5616, 'height': 3744, 'exposuretime': 0.125, 'aperture': 22.0, 'iso': 100.0, 'num_exposures': 6, 'file_name': '/projects/SkyGAN/clouds_fisheye/raw/2019-10-30_0825_prague_chodska_21_rooftop/IMG_2629.CR2'}),\n",
    "({'width': 5616, 'height': 3744, 'exposuretime': 0.000125, 'aperture': 22.0, 'iso': 100.0, 'num_exposures': 6, 'file_name': '/projects/SkyGAN/clouds_fisheye/raw/2019-10-31_0848_prague_chodska_21_rooftop/IMG_2612.CR2'}, {'width': 5616, 'height': 3744, 'exposuretime': 0.125, 'aperture': 22.0, 'iso': 100.0, 'num_exposures': 6, 'file_name': '/projects/SkyGAN/clouds_fisheye/raw/2019-10-31_0848_prague_chodska_21_rooftop/IMG_2617.CR2'}),\n",
    "({'width': 5616, 'height': 3744, 'exposuretime': 0.000125, 'aperture': 22.0, 'iso': 100.0, 'num_exposures': 6, 'file_name': '/projects/SkyGAN/clouds_fisheye/raw/2019-11-02_1134_prague_chodska_21_rooftop/IMG_2619.CR2'}, {'width': 5616, 'height': 3744, 'exposuretime': 0.125, 'aperture': 22.0, 'iso': 100.0, 'num_exposures': 6, 'file_name': '/projects/SkyGAN/clouds_fisheye/raw/2019-11-02_1134_prague_chodska_21_rooftop/IMG_2624.CR2'}),\n",
    "({'width': 5616, 'height': 3744, 'exposuretime': 0.000125, 'aperture': 22.0, 'iso': 100.0, 'num_exposures': 9, 'file_name': '/projects/SkyGAN/clouds_fisheye/raw/2019-11-02_1716_prague_chodska_21_rooftop/IMG_2985.CR2'}, {'width': 5616, 'height': 3744, 'exposuretime': 8.0, 'aperture': 22.0, 'iso': 100.0, 'num_exposures': 9, 'file_name': '/projects/SkyGAN/clouds_fisheye/raw/2019-11-02_1716_prague_chodska_21_rooftop/IMG_2993.CR2'}),\n",
    "({'width': 5616, 'height': 3744, 'exposuretime': 0.000125, 'aperture': 22.0, 'iso': 100.0, 'num_exposures': 6, 'file_name': '/projects/SkyGAN/clouds_fisheye/raw/2019-11-04_0853_prague_chodska_21_rooftop/IMG_4335.CR2'}, {'width': 5616, 'height': 3744, 'exposuretime': 0.125, 'aperture': 22.0, 'iso': 100.0, 'num_exposures': 6, 'file_name': '/projects/SkyGAN/clouds_fisheye/raw/2019-11-04_0853_prague_chodska_21_rooftop/IMG_4340.CR2'}),\n",
    "({'width': 5616, 'height': 3744, 'exposuretime': 0.000125, 'aperture': 22.0, 'iso': 100.0, 'num_exposures': 8, 'file_name': '/projects/SkyGAN/clouds_fisheye/raw/2019-11-04_1547_prague_chodska_21_rooftop/IMG_0001.CR2'}, {'width': 5616, 'height': 3744, 'exposuretime': 2.0, 'aperture': 22.0, 'iso': 100.0, 'num_exposures': 8, 'file_name': '/projects/SkyGAN/clouds_fisheye/raw/2019-11-04_1547_prague_chodska_21_rooftop/IMG_0008.CR2'}),\n",
    "({'width': 6240, 'height': 4160, 'exposuretime': 0.00025, 'aperture': 11.0, 'iso': 100.0, 'num_exposures': 7, 'file_name': '/projects/SkyGAN/clouds_fisheye/raw/2021-02-13_0720_prague_horomerice_field/IMG_4721.CR2'}, {'width': 6240, 'height': 4160, 'exposuretime': 1.0, 'aperture': 11.0, 'iso': 100.0, 'num_exposures': 7, 'file_name': '/projects/SkyGAN/clouds_fisheye/raw/2021-02-13_0720_prague_horomerice_field/IMG_4727.CR2'}),\n",
    "({'width': 6240, 'height': 4160, 'exposuretime': 0.00025, 'aperture': 22.0, 'iso': 100.0, 'num_exposures': 7, 'file_name': '/projects/SkyGAN/clouds_fisheye/raw/2021-02-13_1329_prague_horomerice_field/IMG_9279.CR2'}, {'width': 6240, 'height': 4160, 'exposuretime': 1.0, 'aperture': 22.0, 'iso': 100.0, 'num_exposures': 7, 'file_name': '/projects/SkyGAN/clouds_fisheye/raw/2021-02-13_1329_prague_horomerice_field/IMG_9285.CR2'}),\n",
    "({'width': 6240, 'height': 4160, 'exposuretime': 0.00025, 'aperture': 22.0, 'iso': 100.0, 'num_exposures': 7, 'file_name': '/projects/SkyGAN/clouds_fisheye/raw/2021-05-01_1210_zahorany_field/IMG_4721.CR2'}, {'width': 6240, 'height': 4160, 'exposuretime': 1.0, 'aperture': 22.0, 'iso': 100.0, 'num_exposures': 7, 'file_name': '/projects/SkyGAN/clouds_fisheye/raw/2021-05-01_1210_zahorany_field/IMG_4727.CR2'}),\n",
    "({'width': 6240, 'height': 4160, 'exposuretime': 0.00025, 'aperture': 22.0, 'iso': 100.0, 'num_exposures': 7, 'file_name': '/projects/SkyGAN/clouds_fisheye/raw/2022-08-29_blauhuette/IMG_4240.CR2'}, {'width': 6240, 'height': 4160, 'exposuretime': 1.0, 'aperture': 22.0, 'iso': 100.0, 'num_exposures': 7, 'file_name': '/projects/SkyGAN/clouds_fisheye/raw/2022-08-29_blauhuette/IMG_4246.CR2'}),\n",
    "({'width': 6240, 'height': 4160, 'exposuretime': 0.00025, 'aperture': 22.0, 'iso': 100.0, 'num_exposures': 7, 'file_name': '/projects/SkyGAN/clouds_fisheye/raw/2022-08-30_blauhuette/IMG_4518.CR2'}, {'width': 6240, 'height': 4160, 'exposuretime': 1.0, 'aperture': 22.0, 'iso': 100.0, 'num_exposures': 7, 'file_name': '/projects/SkyGAN/clouds_fisheye/raw/2022-08-30_blauhuette/IMG_4524.CR2'}),\n",
    "({'width': 6240, 'height': 4160, 'exposuretime': 0.00025, 'aperture': 22.0, 'iso': 100.0, 'num_exposures': 7, 'file_name': '/projects/SkyGAN/clouds_fisheye/raw/2022-08-31_blauhuette/IMG_1263.CR2'}, {'width': 6240, 'height': 4160, 'exposuretime': 1.0, 'aperture': 22.0, 'iso': 100.0, 'num_exposures': 7, 'file_name': '/projects/SkyGAN/clouds_fisheye/raw/2022-08-31_blauhuette/IMG_1269.CR2'}),\n",
    "({'width': 6240, 'height': 4160, 'exposuretime': 0.00025, 'aperture': 22.0, 'iso': 100.0, 'num_exposures': 7, 'file_name': '/projects/SkyGAN/clouds_fisheye/raw/2022-09-02_0801_blauhuette/IMG_7710.CR2'}, {'width': 6240, 'height': 4160, 'exposuretime': 1.0, 'aperture': 22.0, 'iso': 100.0, 'num_exposures': 7, 'file_name': '/projects/SkyGAN/clouds_fisheye/raw/2022-09-02_0801_blauhuette/IMG_7716.CR2'}),\n",
    "({'width': 6240, 'height': 4160, 'exposuretime': 0.00025, 'aperture': 22.0, 'iso': 100.0, 'num_exposures': 7, 'file_name': '/projects/SkyGAN/clouds_fisheye/raw/2022-09-02_1601_blauhuette/IMG_8460.CR2'}, {'width': 6240, 'height': 4160, 'exposuretime': 1.0, 'aperture': 22.0, 'iso': 100.0, 'num_exposures': 7, 'file_name': '/projects/SkyGAN/clouds_fisheye/raw/2022-09-02_1601_blauhuette/IMG_8466.CR2'}),\n",
    "]\n"
   ]
  },
  {
   "cell_type": "code",
   "execution_count": null,
   "metadata": {},
   "outputs": [],
   "source": [
    "import math\n",
    "def exposure_value(metadata):\n",
    "    t = metadata[\"exposuretime\"]\n",
    "    a = metadata[\"aperture\"]\n",
    "    a = 22 if a == 0.0 else a\n",
    "    i = metadata[\"iso\"] / 100.0\n",
    "    #print(t, a, i, metadata[\"shooting_name\"])\n",
    "    return math.log2(i*(a**2) / t)\n",
    "\n",
    "exposures = np.array([(exposure_value(m[0]), exposure_value(m[1])) for m in data])"
   ]
  },
  {
   "cell_type": "code",
   "execution_count": null,
   "metadata": {},
   "outputs": [],
   "source": [
    "from matplotlib import pyplot as plt\n",
    "names = [Path(m[0][\"file_name\"]).parent.name for m in data]\n",
    "plt.figure(figsize=(25, 8))\n",
    "plt.grid()\n",
    "plt.bar(names, exposures[:,1] - exposures[:,0], bottom=exposures[:,0])\n",
    "plt.plot(names, ((exposures[:,1] - exposures[:,0])/2) + exposures[:, 0], 'r-')\n",
    "plt.yticks(list(range(2, 23, 1)))\n",
    "plt.xticks(rotation=-90)\n",
    "plt.show()"
   ]
  },
  {
   "cell_type": "code",
   "execution_count": null,
   "metadata": {},
   "outputs": [],
   "source": [
    "# 1/2, ...., 1/2000\n",
    "EVs = np.array([8.614709844115207, 10.614709844115207, 12.521600439723727, 14.580494128777294, 16.580494128777296, 18.580494128777296])\n",
    "print((len(EVs) - 1)*2)\n",
    "print(EVs[-1] - EVs[0])"
   ]
  },
  {
   "cell_type": "code",
   "execution_count": null,
   "metadata": {},
   "outputs": [],
   "source": [
    "offsets = (np.median(EVs) - EVs)\n",
    "print(offsets)\n",
    "offsets += -max(offsets) - min(offsets)\n",
    "print(offsets)\n",
    "np.round(offsets, 1)"
   ]
  },
  {
   "cell_type": "code",
   "execution_count": null,
   "metadata": {},
   "outputs": [],
   "source": [
    "np.median(EVs) - 15"
   ]
  },
  {
   "cell_type": "code",
   "execution_count": null,
   "metadata": {},
   "outputs": [],
   "source": []
  }
 ],
 "metadata": {
  "kernelspec": {
   "display_name": "skygan_env",
   "language": "python",
   "name": "python3"
  },
  "language_info": {
   "codemirror_mode": {
    "name": "ipython",
    "version": 3
   },
   "file_extension": ".py",
   "mimetype": "text/x-python",
   "name": "python",
   "nbconvert_exporter": "python",
   "pygments_lexer": "ipython3",
   "version": "3.10.4"
  },
  "orig_nbformat": 4,
  "vscode": {
   "interpreter": {
    "hash": "205db0115c9db5769869260561b2eb52113d7b93b837170aa7d2892bc58b5429"
   }
  }
 },
 "nbformat": 4,
 "nbformat_minor": 2
}
