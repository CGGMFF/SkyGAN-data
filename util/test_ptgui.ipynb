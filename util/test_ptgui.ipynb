{
 "cells": [
  {
   "cell_type": "code",
   "execution_count": null,
   "metadata": {},
   "outputs": [],
   "source": [
    "from pathlib import Path\n",
    "import json\n",
    "from util import AttributeDict\n",
    "from util.ptgui import gen_ptgui_project\n",
    "\n",
    "tiffs = [Path('/local/tobias/2019_08_05_1716_santa_cruz_villa_nuova/TIFF/IMG_1032.tif'), Path('/local/tobias/2019_08_05_1716_santa_cruz_villa_nuova/TIFF/IMG_1030.tif'), Path('/local/tobias/2019_08_05_1716_santa_cruz_villa_nuova/TIFF/IMG_1035.tif'), Path('/local/tobias/2019_08_05_1716_santa_cruz_villa_nuova/TIFF/IMG_1033.tif'), Path('/local/tobias/2019_08_05_1716_santa_cruz_villa_nuova/TIFF/IMG_1031.tif'), Path('/local/tobias/2019_08_05_1716_santa_cruz_villa_nuova/TIFF/IMG_1036.tif'), Path('/local/tobias/2019_08_05_1716_santa_cruz_villa_nuova/TIFF/IMG_1034.tif')]\n",
    "output = tiffs[0].parent.with_name('asdf.pts')\n",
    "\n",
    "gen_ptgui_project(tiffs, output, force=5)\n",
    "\n",
    "with open(output) as f:\n",
    "    data = AttributeDict(json.load(f))\n"
   ]
  },
  {
   "cell_type": "code",
   "execution_count": null,
   "metadata": {},
   "outputs": [],
   "source": [
    "data.project.imagegroups[0].images"
   ]
  },
  {
   "cell_type": "code",
   "execution_count": null,
   "metadata": {},
   "outputs": [],
   "source": []
  }
 ],
 "metadata": {
  "kernelspec": {
   "display_name": "skygan_env",
   "language": "python",
   "name": "python3"
  },
  "language_info": {
   "codemirror_mode": {
    "name": "ipython",
    "version": 3
   },
   "file_extension": ".py",
   "mimetype": "text/x-python",
   "name": "python",
   "nbconvert_exporter": "python",
   "pygments_lexer": "ipython3",
   "version": "3.10.4"
  },
  "orig_nbformat": 4,
  "vscode": {
   "interpreter": {
    "hash": "205db0115c9db5769869260561b2eb52113d7b93b837170aa7d2892bc58b5429"
   }
  }
 },
 "nbformat": 4,
 "nbformat_minor": 2
}
